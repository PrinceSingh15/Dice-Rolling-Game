{
 "cells": [
  {
   "cell_type": "code",
   "execution_count": 1,
   "metadata": {},
   "outputs": [],
   "source": [
    "import random\n",
    "\n",
    "def dice_roll():\n",
    "    DiceRoll = random.randint(1, 6)\n",
    "    return DiceRoll"
   ]
  },
  {
   "cell_type": "code",
   "execution_count": 2,
   "metadata": {},
   "outputs": [],
   "source": [
    "def main():\n",
    "    Player1 = 0\n",
    "    Player1wins = 0\n",
    "    Player2 = 0\n",
    "    Player2wins = 0\n",
    "    rounds = 1\n",
    "    x = int(input(\"Enter rounds you wanna play : \"))\n",
    "    while rounds != x+1:\n",
    "        print(\"\\nRound \" + str(rounds))\n",
    "        Player1 = dice_roll()\n",
    "        Player2 = dice_roll()\n",
    "        print(\"Player 1 got = \" + str(Player1))\n",
    "        print(\"Player 2 got = \" + str(Player2))\n",
    "        if Player1 == Player2:\n",
    "            print(\"Draw!\\n\")\n",
    "        elif Player1 > Player2:\n",
    "            Player1wins += 1\n",
    "            print(\"Player 1 Wins this round !!\\n\")\n",
    "        else:\n",
    "            Player2wins += 1\n",
    "            print(\"Player 2 Wins this round !!\\n\")\n",
    "        \n",
    "        rounds += 1\n",
    "        \n",
    "    if Player1wins == Player2wins:\n",
    "        print(\"It's DRAW !!\")\n",
    "    elif Player1wins > Player2wins:\n",
    "        print(\"Player 1 WON -- Rounds Won: \" + str(Player1wins))\n",
    "    else:\n",
    "        print(\"Player 2 WON -- Rounds Won: \" + str(Player2wins))\n",
    "        \n",
    "    print(\"Thank You !\")"
   ]
  },
  {
   "cell_type": "code",
   "execution_count": 5,
   "metadata": {},
   "outputs": [
    {
     "name": "stdout",
     "output_type": "stream",
     "text": [
      "This is Dice Rolling Game Between Two Players \n",
      "\n",
      "Enter rounds you wanna play : 10\n",
      "\n",
      "Round 1\n",
      "Player 1 got = 4\n",
      "Player 2 got = 4\n",
      "Draw!\n",
      "\n",
      "\n",
      "Round 2\n",
      "Player 1 got = 3\n",
      "Player 2 got = 4\n",
      "Player 2 Wins this round !!\n",
      "\n",
      "\n",
      "Round 3\n",
      "Player 1 got = 6\n",
      "Player 2 got = 3\n",
      "Player 1 Wins this round !!\n",
      "\n",
      "\n",
      "Round 4\n",
      "Player 1 got = 5\n",
      "Player 2 got = 5\n",
      "Draw!\n",
      "\n",
      "\n",
      "Round 5\n",
      "Player 1 got = 4\n",
      "Player 2 got = 2\n",
      "Player 1 Wins this round !!\n",
      "\n",
      "\n",
      "Round 6\n",
      "Player 1 got = 6\n",
      "Player 2 got = 1\n",
      "Player 1 Wins this round !!\n",
      "\n",
      "\n",
      "Round 7\n",
      "Player 1 got = 1\n",
      "Player 2 got = 5\n",
      "Player 2 Wins this round !!\n",
      "\n",
      "\n",
      "Round 8\n",
      "Player 1 got = 2\n",
      "Player 2 got = 4\n",
      "Player 2 Wins this round !!\n",
      "\n",
      "\n",
      "Round 9\n",
      "Player 1 got = 6\n",
      "Player 2 got = 3\n",
      "Player 1 Wins this round !!\n",
      "\n",
      "\n",
      "Round 10\n",
      "Player 1 got = 1\n",
      "Player 2 got = 6\n",
      "Player 2 Wins this round !!\n",
      "\n",
      "It's DRAW !!\n",
      "Thank You !\n"
     ]
    }
   ],
   "source": [
    "print(\"This is Dice Rolling Game Between Two Players \\n\")\n",
    "main()  #to run/call program"
   ]
  },
  {
   "cell_type": "code",
   "execution_count": null,
   "metadata": {},
   "outputs": [],
   "source": []
  }
 ],
 "metadata": {
  "kernelspec": {
   "display_name": "Python 3",
   "language": "python",
   "name": "python3"
  },
  "language_info": {
   "codemirror_mode": {
    "name": "ipython",
    "version": 3
   },
   "file_extension": ".py",
   "mimetype": "text/x-python",
   "name": "python",
   "nbconvert_exporter": "python",
   "pygments_lexer": "ipython3",
   "version": "3.7.6"
  }
 },
 "nbformat": 4,
 "nbformat_minor": 4
}
